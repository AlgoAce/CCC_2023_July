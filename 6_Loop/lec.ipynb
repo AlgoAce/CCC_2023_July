{
 "cells": [
  {
   "cell_type": "code",
   "execution_count": null,
   "metadata": {},
   "outputs": [],
   "source": [
    "n = 0\n",
    "a = 4\n",
    "b = 1\n",
    "\n",
    "while (b < a):  # (1 < 4)? True     # (1 < 3)? True\n",
    "    n = n + a       # n = 0 + 4         # n = 4 + 3\n",
    "    a = a - 1       # a = 3             # a = 2\n",
    "\n",
    "print(n)"
   ]
  },
  {
   "cell_type": "code",
   "execution_count": 3,
   "metadata": {},
   "outputs": [],
   "source": [
    "def is_prime_helper(n, divisor):\n",
    "    if (divisor == 1):\n",
    "        return True\n",
    "    else:\n",
    "        if (n % divisor) == 0:\n",
    "            return False\n",
    "        else:\n",
    "            return is_prime_helper(n, divisor - 1)\n",
    "\n",
    "def is_prime(n):\n",
    "    return is_prime_helper(n, n - 1)"
   ]
  },
  {
   "cell_type": "code",
   "execution_count": 4,
   "metadata": {},
   "outputs": [
    {
     "data": {
      "text/plain": [
       "False"
      ]
     },
     "execution_count": 4,
     "metadata": {},
     "output_type": "execute_result"
    }
   ],
   "source": [
    "is_prime(100)"
   ]
  },
  {
   "cell_type": "code",
   "execution_count": 5,
   "metadata": {},
   "outputs": [
    {
     "data": {
      "text/plain": [
       "True"
      ]
     },
     "execution_count": 5,
     "metadata": {},
     "output_type": "execute_result"
    }
   ],
   "source": [
    "is_prime(13)"
   ]
  },
  {
   "cell_type": "code",
   "execution_count": 6,
   "metadata": {},
   "outputs": [],
   "source": [
    "def is_prime(n):                    # is_prime (4)\n",
    "    divisor = n - 1                 # divisor = 3\n",
    "\n",
    "    while divisor >= 2:             # 3 >=2 True            # 2 >= 2 True\n",
    "        if (n % divisor == 0):      # 4 % 3 == 0 Flase      # 4 % 2 == 0 Ture\n",
    "                                                            # return False\n",
    "            return False\n",
    "        divisor -= 1                # divisor = 2\n",
    "\n",
    "    return True"
   ]
  },
  {
   "cell_type": "code",
   "execution_count": 9,
   "metadata": {},
   "outputs": [
    {
     "name": "stdout",
     "output_type": "stream",
     "text": [
      "1\n",
      "2\n",
      "3\n",
      "4\n",
      "5\n"
     ]
    }
   ],
   "source": [
    "for i in range(1, 6): # [1, 2, 3 ,4, 5]\n",
    "    print(i)"
   ]
  },
  {
   "cell_type": "code",
   "execution_count": 12,
   "metadata": {},
   "outputs": [
    {
     "name": "stdout",
     "output_type": "stream",
     "text": [
      "0\n",
      "1\n",
      "2\n"
     ]
    }
   ],
   "source": [
    "for i in range(3): # [0, 1, 2]\n",
    "    print(i)"
   ]
  },
  {
   "cell_type": "code",
   "execution_count": 10,
   "metadata": {},
   "outputs": [
    {
     "name": "stdout",
     "output_type": "stream",
     "text": [
      "AVOCADO\n",
      "BANANA\n",
      "CABBAGE\n"
     ]
    }
   ],
   "source": [
    "for food in ['avocado', 'banana', 'cabbage']: \n",
    "    print(food.upper())"
   ]
  },
  {
   "cell_type": "code",
   "execution_count": 11,
   "metadata": {},
   "outputs": [
    {
     "name": "stdout",
     "output_type": "stream",
     "text": [
      "A\n",
      "C\n",
      "G\n",
      "G\n",
      "G\n",
      "T\n",
      "C\n",
      "G\n"
     ]
    }
   ],
   "source": [
    "for base in 'ACGGGTCG':\n",
    "    print(base)"
   ]
  },
  {
   "cell_type": "code",
   "execution_count": 15,
   "metadata": {},
   "outputs": [
    {
     "name": "stdout",
     "output_type": "stream",
     "text": [
      "[3, 4, 5]\n"
     ]
    }
   ],
   "source": [
    "# add(lst, n) \n",
    "# add ([1, 2, 3], 2) => [3, 4, 5]\n",
    "\n",
    "def add (lst, n):\n",
    "    for i in range (len(lst)): # for i in range (3): [0 ,1 ,2]\n",
    "        lst[i] = lst[i] + n\n",
    "\n",
    "    print (lst)\n",
    "\n",
    "add ([1, 2, 3], 2)"
   ]
  },
  {
   "cell_type": "code",
   "execution_count": 14,
   "metadata": {},
   "outputs": [
    {
     "name": "stdout",
     "output_type": "stream",
     "text": [
      "0\n",
      "1\n",
      "2\n"
     ]
    }
   ],
   "source": [
    "for i in range (3): # [0, 1, 2]\n",
    "    print(i)"
   ]
  }
 ],
 "metadata": {
  "kernelspec": {
   "display_name": "Python 3",
   "language": "python",
   "name": "python3"
  },
  "language_info": {
   "codemirror_mode": {
    "name": "ipython",
    "version": 3
   },
   "file_extension": ".py",
   "mimetype": "text/x-python",
   "name": "python",
   "nbconvert_exporter": "python",
   "pygments_lexer": "ipython3",
   "version": "3.10.6"
  },
  "orig_nbformat": 4
 },
 "nbformat": 4,
 "nbformat_minor": 2
}

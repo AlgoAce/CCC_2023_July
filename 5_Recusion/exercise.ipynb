{
 "cells": [
  {
   "attachments": {},
   "cell_type": "markdown",
   "metadata": {},
   "source": [
    "# Reversing a List\n",
    "\n",
    "```\n",
    "reverse([0]) => 0\n",
    "reverse([1, 3, 5, 2]) => [2, 5, 3, 1]\n",
    "```"
   ]
  },
  {
   "cell_type": "code",
   "execution_count": 7,
   "metadata": {},
   "outputs": [
    {
     "data": {
      "text/plain": [
       "[2, 5, 3, 1]"
      ]
     },
     "execution_count": 7,
     "metadata": {},
     "output_type": "execute_result"
    }
   ],
   "source": [
    "# First step, use Strucutre Recusion\n",
    "def reverse_structure(lst):\n",
    "    if (len(lst) <= 1):\n",
    "        return lst\n",
    "    else:\n",
    "        return [lst[-1]] + reverse_structure(lst[:-1])\n",
    "    \n",
    "reverse_structure([1, 3, 5, 2])"
   ]
  },
  {
   "cell_type": "code",
   "execution_count": 15,
   "metadata": {},
   "outputs": [
    {
     "data": {
      "text/plain": [
       "[2, 5, 3, 1]"
      ]
     },
     "execution_count": 15,
     "metadata": {},
     "output_type": "execute_result"
    }
   ],
   "source": [
    "# Second step, use Accumulative Recusion\n",
    "def reverse_helper(acc, lst, pos):\n",
    "    if pos < 0:\n",
    "        return acc\n",
    "    else:\n",
    "        acc.append(lst[pos])\n",
    "        return reverse_helper(acc, lst, pos - 1)\n",
    "\n",
    "def reverse_acc(lst):\n",
    "    return reverse_helper([], lst, len(lst) - 1)\n",
    "\n",
    "reverse_acc([1, 3, 5, 2])"
   ]
  },
  {
   "cell_type": "code",
   "execution_count": 18,
   "metadata": {},
   "outputs": [
    {
     "name": "stdout",
     "output_type": "stream",
     "text": [
      "[1, 2, 3, 2, 3, 4]\n"
     ]
    }
   ],
   "source": [
    "lst_a = [1, 2, 3]\n",
    "lst_b = [2, 3, 4]\n",
    "\n",
    "print(lst_a + lst_b)"
   ]
  },
  {
   "attachments": {},
   "cell_type": "markdown",
   "metadata": {},
   "source": [
    "## Palindrome\n",
    "\n",
    "Check is palindrome. A palindrome is a string that reads the same forwards and backwards, for example, \"abcba\" or\"12 33 21\".\n",
    "\n",
    "Write a recursive Python function `is_palindrome` that consumes a `string (s)`, and produces `True` if `s` is a palindrome, and False if not. \n",
    "\n",
    "Note that any string of length less than 2 is a palindrome.\n",
    "\n",
    "```\n",
    "palindrome(\"a\") => True\n",
    "reverse(\"12321\") => True\n",
    "```"
   ]
  },
  {
   "cell_type": "code",
   "execution_count": null,
   "metadata": {},
   "outputs": [],
   "source": [
    "def palindrome(s):\n",
    "    pass"
   ]
  },
  {
   "attachments": {},
   "cell_type": "markdown",
   "metadata": {},
   "source": [
    "# Reverse a number. \n",
    "\n",
    "Write a function Reverse that consumes a natural number and produces a new number with the digits in reverse order.\n",
    "\n",
    "- Use accumulative recursion\n",
    "- The helper function will keep track of\n",
    "\n",
    "    – The digits that have been reversed so far \n",
    "\n",
    "    – The digits that still need to be reversed \n",
    "    \n",
    "    – The helper will use generative recursion\n",
    "```\n",
    "reverse(0) => 0\n",
    "reverse(7654) => 4567\n",
    "reverse(10011) => 11001\n",
    "```\n"
   ]
  },
  {
   "cell_type": "code",
   "execution_count": 29,
   "metadata": {},
   "outputs": [
    {
     "name": "stdout",
     "output_type": "stream",
     "text": [
      "4567\n"
     ]
    }
   ],
   "source": [
    "def reverse_helper(acc, remain):\n",
    "    if remain < 10:\n",
    "        return acc * 10 + remain\n",
    "    else:\n",
    "        return reverse_helper(acc * 10 + remain%10, remain // 10)\n",
    "\n",
    "def Reverse(n):\n",
    "    return reverse_helper(0,n)\n",
    "    \n",
    "print(Reverse(7654))\n",
    "\n",
    "# reverse_helper(0, 7654)\n",
    "# reverse_helper(4, 765)"
   ]
  },
  {
   "cell_type": "code",
   "execution_count": null,
   "metadata": {},
   "outputs": [],
   "source": [
    "def findMax(lst):\n",
    "    if (len(lst) == 1):\n",
    "        return lst[0]\n",
    "    \n",
    "    elif (lst[0] > findMax(lst[1:])):\n",
    "        return lst[0]\n",
    "    \n",
    "    else:\n",
    "        return findMax(lst[1:])"
   ]
  },
  {
   "cell_type": "code",
   "execution_count": null,
   "metadata": {},
   "outputs": [],
   "source": [
    "# find_max([0, 2, 1])\n",
    "# elif: 0 > findMax([2, 1])\n",
    "    # 2 > findMax(1) => Flase\n",
    "        # if : findMax(1) reutrn 1\n",
    "    # 2 > 1 Flase\n",
    "# else: findMax([2, 1])\n"
   ]
  },
  {
   "cell_type": "markdown",
   "metadata": {},
   "source": [
    "**Exercise:** Fibonacci numbers\n",
    "The nth Fibonacci number is the sum of the two previous Fibonacci numbers:\n",
    "$$\n",
    "f_n = f_{n-1} + f_{n - 2}, \\text{ where } f_0 = 0, f_1 = 1.\n",
    "$$\n",
    "Write a function that calculate the Fibonacci numbers:\n",
    "\n",
    "```Python\n",
    "# fib(5) => 5\n",
    "# fib(10) => 55\n",
    "# fib(35) => 9,227,465\n",
    "\n",
    "```"
   ]
  },
  {
   "cell_type": "code",
   "execution_count": null,
   "metadata": {},
   "outputs": [],
   "source": [
    "def fib(n):\n",
    "    pass"
   ]
  },
  {
   "cell_type": "code",
   "execution_count": null,
   "metadata": {},
   "outputs": [],
   "source": [
    "# Helper function\n",
    "def remember_max(m, lst):       \n",
    "    # Base Case\n",
    "    if len(lst)==0:             \n",
    "        return m\n",
    "    elif m > lst[0]:\n",
    "        return remember_max(m, lst[1:])\n",
    "    else:\n",
    "        return remember_max(lst[0], lst[1:])\n",
    "\n",
    "def findMax2(lst):\n",
    "    return remember_max(lst[0], lst[1:])\n",
    "\n",
    "\n",
    "lst = [1, 2, 3, 4]\n",
    "\n",
    "'''\n",
    "findMax2 (lst)\n",
    "=> remember_max(1, [2, 3, 4])\n",
    "=> remember_max(2, [3, 4])\n",
    "=> remember_max(3, [4])\n",
    "=> remember_max(4, [])\n",
    "=> 4\n",
    "'''"
   ]
  },
  {
   "cell_type": "code",
   "execution_count": 10,
   "metadata": {},
   "outputs": [
    {
     "name": "stdout",
     "output_type": "stream",
     "text": [
      "[4, 3, 2, 1]\n"
     ]
    }
   ],
   "source": [
    "lst = [1, 2, 3, 4]\n",
    "rtn = []\n",
    "\n",
    "rtn = rtn + [lst[-1]]\n",
    "lst = lst[: -1]\n",
    "\n",
    "rtn = rtn + [lst[-1]]\n",
    "lst = lst[: -1]\n",
    "\n",
    "rtn = rtn + [lst[-1]]\n",
    "lst = lst[: -1]\n",
    "\n",
    "rtn = rtn + [lst[-1]]\n",
    "lst = lst[: -1]\n",
    "\n",
    "print(rtn)\n"
   ]
  },
  {
   "cell_type": "code",
   "execution_count": 6,
   "metadata": {},
   "outputs": [],
   "source": [
    "def foo(lst):\n",
    "    if (len(lst) <= 1):\n",
    "        return lst\n",
    "    else:\n",
    "        return [lst[-1]] + foo(lst[: -1])"
   ]
  },
  {
   "cell_type": "code",
   "execution_count": 8,
   "metadata": {},
   "outputs": [
    {
     "name": "stdout",
     "output_type": "stream",
     "text": [
      "[4, 3, 2, 1]\n"
     ]
    }
   ],
   "source": [
    "pos = -1\n",
    "\n",
    "lst = [1, 2, 3, 4]\n",
    "rtn = []\n",
    "\n",
    "rtn.append(lst[pos])\n",
    "pos = pos - 1\n",
    "\n",
    "rtn.append(lst[pos])\n",
    "pos = pos - 1\n",
    "\n",
    "rtn.append(lst[pos])\n",
    "pos = pos - 1\n",
    "\n",
    "rtn.append(lst[pos])\n",
    "pos = pos - 1\n",
    "\n",
    "print(rtn)"
   ]
  }
 ],
 "metadata": {
  "kernelspec": {
   "display_name": "Python 3",
   "language": "python",
   "name": "python3"
  },
  "language_info": {
   "codemirror_mode": {
    "name": "ipython",
    "version": 3
   },
   "file_extension": ".py",
   "mimetype": "text/x-python",
   "name": "python",
   "nbconvert_exporter": "python",
   "pygments_lexer": "ipython3",
   "version": "3.10.6"
  },
  "orig_nbformat": 4
 },
 "nbformat": 4,
 "nbformat_minor": 2
}

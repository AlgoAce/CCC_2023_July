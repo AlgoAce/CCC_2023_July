{
 "cells": [
  {
   "cell_type": "code",
   "execution_count": 24,
   "metadata": {},
   "outputs": [],
   "source": [
    "import math\n",
    "import check"
   ]
  },
  {
   "attachments": {},
   "cell_type": "markdown",
   "metadata": {},
   "source": [
    "### Question 1\n",
    "\n",
    "How many Pink Ties, placed end-to-end, does it take to go to the moon? To travel around the equator? To go from Waterloo to Toronto? Well, this is something we can figure out ... \n",
    " \n",
    "The 2015 Pink Tie measures 150 cm from one tip to the other. Write a Python function **pink_ties_needed** that consumes **distance** (a **Float**, measured in kilometres) and produces the minimum number of Pink Ties that would be needed to cover that distance, assuming that they are placed  end-to-end. The produced value must be of type Nat, and the total distance covered by all ties must be at least distance. For example, **pink_ties_needed(1.6) => 1067**, so 1067 Pink Ties must be placed end-to-end down University Avenue to cover the distance from the University of Waterloo to Wilfrid Laurier University. \n",
    " \n",
    "You may find the function ```math.ceil``` useful"
   ]
  },
  {
   "cell_type": "code",
   "execution_count": 29,
   "metadata": {},
   "outputs": [],
   "source": [
    "def pink_ties_needed(distance):\n",
    "    # write you answer here\n",
    "    needed = (distance * 1000 * 100) / 150\n",
    "\n",
    "    return math.ceil(needed)"
   ]
  },
  {
   "cell_type": "code",
   "execution_count": 30,
   "metadata": {},
   "outputs": [
    {
     "name": "stdout",
     "output_type": "stream",
     "text": [
      "\n",
      "\n",
      "-----\n",
      "\n",
      "\n",
      "\n",
      "-----\n",
      "\n",
      "\n",
      "\n",
      "-----\n",
      "\n",
      "\n",
      "\n",
      "-----\n",
      "\n",
      "\n",
      "\n",
      "-----\n",
      "\n",
      "\n",
      "\n",
      "-----\n",
      "\n"
     ]
    }
   ],
   "source": [
    "# Testing\n",
    "check.expect(\"distance=0, 0 ties\", pink_ties_needed(0), 0)\n",
    "check.expect(\"distance=0.001, 1 tie\", pink_ties_needed(0.001), 1)\n",
    "check.expect(\"distance=0.0015, 1 tie\", pink_ties_needed(0.0015), 1)\n",
    "check.expect(\"distance=1.5, 1000 ties\", pink_ties_needed(1.5), 1000)\n",
    "check.expect(\"distance=1.6, 1067 ties\", pink_ties_needed(1.6), 1067)\n",
    "check.expect(\"distance=93.0, 62000 ties\", pink_ties_needed(93.0), 62000)\n"
   ]
  },
  {
   "cell_type": "markdown",
   "metadata": {},
   "source": [
    "### Question 2\n",
    "A fairly straightforward calculation to convert to Python.\n",
    "\n",
    "If you borrow a dollars at an annual interest rate of p percent, and arrange to pay it back over n months, then your monthly payment (m dollars) is given by the formula:\n",
    "\n",
    "$$\n",
    "m = a * \\frac{(\\frac{p}{1200})(1 + \\frac{p}{1200})^n}{(1 + \\frac{p}{1200})^n - 1}\n",
    "$$\n",
    "\n",
    "Write a Python function **monthly_payment** that consumes $a$ (the amount being borrowed, a nonnegative **Float**), $p$ (the annual interest rate, a positive **Float**), and $n$ (the number of months to repay the loan, a positive **Nat**), and produces the monthly payment, as calculated using the above formula. \n",
    "\n",
    "For example, **monthly_payment(750.0, 2.5, 10) => 75.8620577...**\n"
   ]
  },
  {
   "cell_type": "code",
   "execution_count": null,
   "metadata": {},
   "outputs": [],
   "source": [
    "def monthly_payment(a, p, n):\n",
    "    return 0\n",
    "    "
   ]
  },
  {
   "cell_type": "code",
   "execution_count": null,
   "metadata": {},
   "outputs": [],
   "source": [
    "# Testing\n",
    "check.within(\"0, 1, 1\", monthly_payment(0.0, 1.0, 1), 0.0, 0.01)\n",
    "check.within(\"0, 1000, 520\", monthly_payment(0.0, 1000.0, 520), 0.0, 0.01)\n",
    "check.within(\"1000, 0.75, 1\", monthly_payment(1000.0, 0.75, 1), 1000.62, 0.01)\n",
    "check.within(\"750, 2.5, 10\", monthly_payment(750, 2.5, 10), 75.86, 0.01)\n",
    "check.within(\"1000, 100, 1\", monthly_payment(1000.0, 100.0, 1), 1083.33, 0.01)\n",
    "check.within(\"25000.0, 2.25, 260\", monthly_payment(25000.0, 2.25, 260), 1215.76, 0.01)"
   ]
  },
  {
   "cell_type": "markdown",
   "metadata": {},
   "source": [
    "# Question 3\n",
    "\n",
    "The following function will help you calculate your final grade in the course...\n",
    "\n",
    "Write a Python function **basic_calculation**, that consumes **assts** (your overall assignment grade, a Float between 0 and 100, inclusive), **mid_exam** (your midterm grade, a Float between 0 and 100, inclusive), **fin_exam** (your final exam grade, a Float between 0 and 100, inclusive), **clickers** (your grade for clicker questions asked in lecture, a Float between 0 and 100, inclusive), and **tutorials** (the number of weeks you attended a tutorial, which is a Nat between 0 and 12, inclusive), and produces the basic grade calculation (rounded to the nearest integer) in the course:\n",
    "* 20% Assignments\n",
    "* 30% Midterm exam\n",
    "* 45% Final exam\n",
    "* 5% Participation (clicker points converted to 5, plus 0.1 mark for each tutorial attended, to a maximum of 5 marks total).\n",
    "* Use the built-in function round to convert your answer to the nearest integer. Note: use round only after the other calculations have been performed, not at intermediate stages.\n",
    "\n",
    "For example, **basic_calculation(78.5, 73.75, 74.0, 84, 9)** produces **76**\n"
   ]
  },
  {
   "cell_type": "code",
   "execution_count": null,
   "metadata": {},
   "outputs": [],
   "source": [
    "def basic_calculation(assts, mid_exam, fin_exam, clickers, tutorials):\n",
    "    # write you answer here\n",
    "    pass"
   ]
  },
  {
   "cell_type": "code",
   "execution_count": null,
   "metadata": {},
   "outputs": [],
   "source": [
    "# Testing\n",
    "check.expect(\"test_01\", basic_calculation(78.5, 73.75, 74.0, 84, 9), 76)\n",
    "check.expect(\"test_02\", basic_calculation(78.5, 73.75, 74.0, 84, 0), 75)\n",
    "check.expect(\"test_03\", basic_calculation(78.5, 73.75, 74.0, 84, 2), 76)\n",
    "check.expect(\"test_04\", basic_calculation(78.5, 73.75, 74.0, 84, 8), 76)\n",
    "check.expect(\"test_05\", basic_calculation(78.5, 73.75, 74.0, 84, 12), 76)\n",
    "\n",
    "# additional examples\n",
    "check.expect(\"test_06\", basic_calculation(50.0, 50.0, 50.0, 50.0, 0), 50)\n",
    "check.expect(\"test_07\", basic_calculation(50.0, 50.0, 50.0, 50.0, 6), 51)\n",
    "check.expect(\"test_08\", basic_calculation(50.0, 50.0, 50.0, 50.0, 12), 51)\n",
    "check.expect(\"test_09\", basic_calculation(80.0, 60.0, 40.0, 60.0, 0), 56)\n",
    "check.expect(\"test_10\", basic_calculation(80.0, 60.0, 40.0, 60.0, 6), 55)\n",
    "check.expect(\"test_11\", basic_calculation(0.0, 70.0, 60.0, 0.0, 0), 48)\n",
    "check.expect(\"test_12\", basic_calculation(80.0, 40.0, 60.0, 0.0, 0), 58)\n",
    "check.expect(\"test_13\", basic_calculation(80.0, 90.0, 88.0, 100.0, 12), 88)\n",
    "check.expect(\"test_14\", basic_calculation(80.0, 90.0, 88.0, 100.0, 0), 88)\n",
    "check.expect(\"test_15\", basic_calculation(80.0, 90.0, 88.0, 0.0, 0), 83)\n",
    "check.expect(\"test_16\", basic_calculation(80.0, 90.0, 88.0, 50.0, 0), 85)\n",
    "check.expect(\"test_17\", basic_calculation(80.0, 90.0, 88.0, 50.0, 5), 86)\n",
    "check.expect(\"test_18\", basic_calculation(80.0, 90.0, 88.0, 50.0, 8), 86)\n",
    "check.expect(\"test_19\", basic_calculation(80.0, 90.0, 88.0, 50.0, 12), 86)"
   ]
  },
  {
   "cell_type": "markdown",
   "metadata": {},
   "source": [
    "# Question 4\n",
    "\n",
    "Well, because math is fun ...\n",
    "Consider the following mathematical \"trick\":\n",
    "* Take xyz, any 3-digit number whose digits are all different (e.g. 463).\n",
    "* Create a new number, dec, which has the same digits as xyz, but rearranged into strictly decreasing order (e.g. 643)\n",
    "* Create a new number, inc, which has the same digits as xyz, but rearranged into strictly increasing order (e.g. 346).\n",
    "* Calculate diff, the difference between dec and inc (e.g. 643-346 = 297).\n",
    "* Calculate rev_diff, the number consisting of the digits of diff, in reverse order (e.g. 792)\n",
    "* Add diff and rev_diff (e.g. 297+792=1089)\n",
    "* The answer is always 1089.\n",
    "\n",
    "Write a Python function **trick** that consumes **xyz**, a 3-digit natural number containing three different digits, and performs the calculations described above, and then produces the resulting value.\n",
    "* your function must perform the given operations (i.e. you cannot simply return 1089); and\n",
    "* you cannot use any string operations for the calculations described above.\n",
    "\n",
    "You don't have to understand the math behind this \"trick\" for this question, but it is fun to think about it! Try to prove why 1089 is always produced."
   ]
  },
  {
   "cell_type": "code",
   "execution_count": null,
   "metadata": {},
   "outputs": [],
   "source": [
    "def trick(xyz):\n",
    "    # write you answer here\n",
    "    pass"
   ]
  },
  {
   "cell_type": "code",
   "execution_count": null,
   "metadata": {},
   "outputs": [],
   "source": [
    "# Testing Trick\n",
    "\n",
    "# smallets and largest values\n",
    "check.expect(\"trick-102\", trick(102), 1089)\n",
    "check.expect(\"trick-987\", trick(987), 1089)\n",
    "\n",
    "# increasing digits\n",
    "check.expect(\"trick-123\", trick(123), 1089)\n",
    "check.expect(\"trick-379\", trick(379), 1089)\n",
    "\n",
    "# decreasing digits\n",
    "check.expect(\"trick-765\", trick(765), 1089)\n",
    "check.expect(\"trick-631\", trick(631), 1089)\n",
    "\n",
    "# neither increasing or decreasing\n",
    "check.expect(\"trick-142\", trick(142), 1089)\n",
    "check.expect(\"trick-825\", trick(825), 1089)"
   ]
  },
  {
   "cell_type": "code",
   "execution_count": null,
   "metadata": {},
   "outputs": [],
   "source": [
    "import math\n",
    "math.pi"
   ]
  }
 ],
 "metadata": {
  "kernelspec": {
   "display_name": "Python 3.11.1 64-bit",
   "language": "python",
   "name": "python3"
  },
  "language_info": {
   "codemirror_mode": {
    "name": "ipython",
    "version": 3
   },
   "file_extension": ".py",
   "mimetype": "text/x-python",
   "name": "python",
   "nbconvert_exporter": "python",
   "pygments_lexer": "ipython3",
   "version": "3.10.6"
  },
  "orig_nbformat": 4,
  "vscode": {
   "interpreter": {
    "hash": "aee8b7b246df8f9039afb4144a1f6fd8d2ca17a180786b69acc140d282b71a49"
   }
  }
 },
 "nbformat": 4,
 "nbformat_minor": 2
}

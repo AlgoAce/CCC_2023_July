{
 "cells": [
  {
   "cell_type": "code",
   "execution_count": null,
   "metadata": {},
   "outputs": [],
   "source": [
    "import check\n",
    "import math"
   ]
  },
  {
   "cell_type": "markdown",
   "metadata": {},
   "source": [
    "# 1. Reverse a string\n",
    "\n",
    "Compelete the python function ```reverse```, which consumes a ```str``` and produce the reverse veriosn of ```str```.\n",
    "\n",
    "\n",
    "---\n",
    "\n",
    "***Example***\n",
    "\n",
    "```python\n",
    "reverse(\"123\") => \"321\"\n",
    "reverse(\"hello\") => \"olleh\"\n",
    "reverse(\"\") => \"\"\n",
    "```\n",
    "\n",
    "---\n",
    "\n",
    "这道题跟上课讲的reverse a list 很类似，尽量不要翻上课的笔记先试试能不能写出来，实在不行再翻。\n",
    "\n",
    "分别使用structure recusion 和 Accumulative Recursion 来完成这道题"
   ]
  },
  {
   "cell_type": "code",
   "execution_count": null,
   "metadata": {},
   "outputs": [],
   "source": [
    "def reverse_structure(str):\n",
    "    pass"
   ]
  },
  {
   "cell_type": "code",
   "execution_count": null,
   "metadata": {},
   "outputs": [],
   "source": [
    "def reverse_acc(str):\n",
    "    pass"
   ]
  },
  {
   "cell_type": "code",
   "execution_count": null,
   "metadata": {},
   "outputs": [],
   "source": [
    "check.expect (\"structure 1\", reverse_structure (\"123\"), \"321\" )\n",
    "check.expect (\"structure 2\", reverse_structure (\"hello\"), \"olleh\")\n",
    "check.expect (\"structure 3\", reverse_structure (\"\"), \"\")\n",
    "check.expect (\"acc 1\", reverse_acc (\"123\"), \"321\") \n",
    "check.expect (\"acc 2\", reverse_acc (\"hello\"), \"olleh\") \n",
    "check.expect (\"acc 3\", reverse_acc (\"\"), \"\") "
   ]
  },
  {
   "cell_type": "markdown",
   "metadata": {},
   "source": [
    "# 2. Find Min\n",
    "\n",
    "Compelete the python function ```findmin```, which consumes a ```lst``` and produce the reverse veriosn of ```lst```.\n",
    "\n",
    "---\n",
    "\n",
    "***Example***\n",
    "```python\n",
    "findmin([2]) => 2\n",
    "findmin([1, 2, 3, 4]) => 1\n",
    "findmin([2, 1, 3, 2]) => 1\n",
    "```\n",
    "\n",
    "---\n",
    "\n",
    "这道题跟上课讲的findmax 很类似，尽量不要翻上课的笔记先试试能不能写出来，实在不行再翻。\n",
    "\n",
    "分别使用structure recusion 和 Accumulative Recursion 来完成这道题"
   ]
  },
  {
   "cell_type": "code",
   "execution_count": null,
   "metadata": {},
   "outputs": [],
   "source": [
    "def findmin_structure(lst):\n",
    "    pass"
   ]
  },
  {
   "cell_type": "code",
   "execution_count": null,
   "metadata": {},
   "outputs": [],
   "source": [
    "def findmin_acc(lst):\n",
    "    pass"
   ]
  },
  {
   "cell_type": "code",
   "execution_count": null,
   "metadata": {},
   "outputs": [],
   "source": [
    "check.expect (\"findmin_structure\", findmin_structure ([2]), 2 )\n",
    "check.expect (\"findmin_structure\", findmin_structure ([1, 2, 3 ,4]), 1)\n",
    "check.expect (\"findmin_structure\", findmin_structure ([2, 1, 3, 2]), 1)\n",
    "check.expect (\"findmin_acc\", findmin_acc ([2]), 2) \n",
    "check.expect (\"findmin_acc\", findmin_acc ([1, 2, 3 ,4]), 1) \n",
    "check.expect (\"findmin_acc\", findmin_acc ([2, 1, 3, 2]), 1)"
   ]
  },
  {
   "cell_type": "markdown",
   "metadata": {},
   "source": [
    "# 3. Racko®\n",
    "\n",
    "In the game Racko®, players attempt to build a strictly increasing sequence of cards (in which a number is less than the number that comes after it). At the end of the game, five points are awarded for each number in the increasing sequence that starts with the first card in the list. Note that any further increasing sequences in the list do not earn any points. For example, there are 20 points awarded for the values 5,10,12,16,15,43, because it begins with the strictly increasing sequence 5,10,12,16.\n",
    "\n",
    "Use accumulative recursion to complete the Python function `racko_points`, that consumes `seq`, a list of distinct integers between 1 and 60, inclusive, and produces the score for `seq`.\n",
    "\n",
    "---\n",
    "\n",
    "***Example***\n",
    "\n",
    "`racko_points([]) => 0`\n",
    "\n",
    "`racko_points([9,2,20,40,60]) => 5`\n",
    "\n",
    "`racko_points([5,10,48,2,9,17,40,60]) => 15`\n",
    "\n",
    "Note that you cannot reorder seq. Determine the number of earned points for the seq in the order given."
   ]
  },
  {
   "cell_type": "code",
   "execution_count": null,
   "metadata": {},
   "outputs": [],
   "source": [
    "def racko_points(seq):\n",
    "    pass"
   ]
  },
  {
   "cell_type": "markdown",
   "metadata": {},
   "source": [
    "check.expect (\"racko_points 1\", racko_points([]), 0)\n",
    "check.expect (\"racko_points 2\", racko_points([9,2,20,40,60]), 5)\n",
    "check.expect (\"racko_points 3\", racko_points([5,10,48,2,9,17,40,60]), 15)"
   ]
  }
 ],
 "metadata": {
  "language_info": {
   "name": "python"
  },
  "orig_nbformat": 4
 },
 "nbformat": 4,
 "nbformat_minor": 2
}

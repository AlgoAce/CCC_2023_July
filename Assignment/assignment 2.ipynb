{
 "cells": [
  {
   "attachments": {},
   "cell_type": "markdown",
   "metadata": {},
   "source": [
    "## Q1\n",
    "\n",
    "Write a Python function called `check_consecutive` which consumes `a,b,c` (three *integers*) and \n",
    "produces *True* if the three integers can be arranged so that they are three consecutive integers, and \n",
    "False otherwise.  \n",
    "\n",
    "---\n",
    "\n",
    "***Example:***\n",
    "\n",
    "`check_consecutive(3,1,2) => True `\n",
    "\n",
    "`check_consecutive(6,3,5) => False `\n",
    "\n",
    "`check_consecutive(-4,-3,-4) => False`\n",
    "\n"
   ]
  },
  {
   "cell_type": "code",
   "execution_count": 18,
   "metadata": {},
   "outputs": [],
   "source": [
    "def check_consecutive(a, b, c):\n",
    " if b - a == 1 and c - b == 1 :  # a b c\n",
    "    print(True)\n",
    " elif b - c == 1 and c - a == 1 : # a c b\n",
    "    print(True)\n",
    " elif a - b == 1 and b - c == 1 : # c b a\n",
    "    print(True)\n",
    " else :\n",
    "    print(False)"
   ]
  },
  {
   "cell_type": "code",
   "execution_count": 19,
   "metadata": {},
   "outputs": [
    {
     "name": "stdout",
     "output_type": "stream",
     "text": [
      "False\n"
     ]
    }
   ],
   "source": [
    "check_consecutive(3, 1, 2)"
   ]
  },
  {
   "cell_type": "code",
   "execution_count": 20,
   "metadata": {},
   "outputs": [
    {
     "name": "stdout",
     "output_type": "stream",
     "text": [
      "False\n"
     ]
    }
   ],
   "source": [
    "check_consecutive(6, 3, 5)"
   ]
  },
  {
   "cell_type": "code",
   "execution_count": 21,
   "metadata": {},
   "outputs": [
    {
     "name": "stdout",
     "output_type": "stream",
     "text": [
      "False\n"
     ]
    }
   ],
   "source": [
    "check_consecutive(-4, -3, -4)"
   ]
  },
  {
   "attachments": {},
   "cell_type": "markdown",
   "metadata": {},
   "source": [
    "## Q2\n",
    "\n",
    "You need to pass the weighted average of the midterm and final exams (i.e. 30% of your midterm mark plus 45% final exam mark must be at least 37.5 marks) in order to pass the couse. Of course, you also need to get at least 50% in the regular grade (20% assignments, 30% midterm, 45% final, 5% participation) to pass.\n",
    "\n",
    "Write a Python function `grade_to_pass` that consumes `assts`,  `mid_exam`, `participation `\n",
    "(*Float* values between 0 and 100, inclusive, corresponding to grades for assignments, midterm exam, and \n",
    "participation), and produces a *Float* corresponding to the grade you must get in the final exam in order to  meet both criteria to pass. If your calculations lead to requiring a final exam grade exceeding 100, then \n",
    "instead produce the string \"Cannot pass\"\n",
    "\n",
    "---\n",
    "\n",
    "***Example:***\n",
    "\n",
    "`grade_to_pass(80.0, 40.0, 100.0) => 56.66666666667 ` \n",
    "\n",
    "(while you only need 17/45 to get 50% for the basic calculation, you need 25.5/45 to \n",
    "pass the exam component)\n",
    "\n",
    "`grade_to_pass(0.0, 0.0, 0.0) => \"Cannot pass\" `"
   ]
  },
  {
   "cell_type": "code",
   "execution_count": 22,
   "metadata": {},
   "outputs": [],
   "source": [
    "def grade_to_pass(assts,  mid_exam, participation):\n",
    "   needed = (50 - (0.2 * assts) - (0.3 * mid_exam )- (0.05 * participation)) / 0.45 \n",
    "\n",
    "   if needed < 100 :\n",
    "      print ( needed)\n",
    "   elif needed > 100 :\n",
    "      print(\"cannot pass\")\n",
    "   elif (0.3 * mid_exam < 5) :\n",
    "      print (\"cannot pass\" )"
   ]
  },
  {
   "cell_type": "code",
   "execution_count": 23,
   "metadata": {},
   "outputs": [
    {
     "name": "stdout",
     "output_type": "stream",
     "text": [
      "37.77777777777778\n",
      "cannot pass\n"
     ]
    }
   ],
   "source": [
    "grade_to_pass(80.0, 40.0, 100.0)\n",
    "\n",
    "grade_to_pass(0.0, 0.0, 0.0)"
   ]
  },
  {
   "attachments": {},
   "cell_type": "markdown",
   "metadata": {},
   "source": [
    "## Q3\n",
    "\n",
    "The cost of shipping a parcel has hour components:\n",
    "\n",
    "- Weight charge, \n",
    "- Destination surcharge (which could be 0), which is added to the weight charge,\n",
    "- Timing of delivery surcharge (which could be 0), which is added to the sum of the weight and destination charges,\n",
    "- 13% taxes on the combined charges\n",
    "\n",
    "The following tables provide details for the first three components.\n",
    "\n",
    "| Weight range (in grams)  | Weight Charge |\n",
    "| :---                     |          :--- |\n",
    "| 0 < weight < 100         | $3.75         |\n",
    "| 100 ≤ weight < 250       | $5.35         |\n",
    "| 250 ≤ weight             | $7.15 + $3 surcharge for each 500 grams over 400 grams   |\n",
    "\n",
    "<br />\n",
    "\n",
    "| Destination| Destination  Surcharge | Overnight Delivery Surcharge | Two day delivery Surcharge | Three day delivery (or longer) Surcharge |\n",
    "| :---      | :---  | :---  | :---  | :---  |\n",
    "| Canada    | 0     | $15   | $11   | $0    |\n",
    "| US        | 75%   | $20   | $15   | $0    |\n",
    "| Elsewhere | 100%  | $40   | $30   | $0    | \n",
    "\n",
    "Write a Python function called `ship_it`, which consumes `weight` (a positive *Float*, for the weight of the parcel in grams), `destination` (a *string* containing the name of the destination country, e.g. \"Canada\", \"US\" , \"China\", etc.), and `days` (a positive *Nat*, the number of days the sender requests for the delivery) . \n",
    "\n",
    "Your function should produce the cost of shipping the package of the given weight to the desired location in the number of days specified, and must include taxes.\n",
    "\n",
    "---\n",
    "\n",
    "***Examples:***\n",
    "\n",
    "`ship_it(30.27, \"Canada\", 1) => 21.1875`\n",
    "\n",
    "`ship_it(400.0, \"China\", 6) => 16.159`\n",
    "\n",
    "`ship_it(790.0, \"China\", 6) => 22.939`\n",
    "\n",
    "`ship_it(175.0, \"US\", 2) => 27.529625`"
   ]
  },
  {
   "cell_type": "code",
   "execution_count": 24,
   "metadata": {},
   "outputs": [
    {
     "data": {
      "text/plain": [
       "27.529624999999996"
      ]
     },
     "execution_count": 24,
     "metadata": {},
     "output_type": "execute_result"
    }
   ],
   "source": [
    "(5.35 + 5.35 * 0.75 + 15) * 1.13"
   ]
  },
  {
   "cell_type": "code",
   "execution_count": 25,
   "metadata": {},
   "outputs": [],
   "source": [
    "def ship_it(weight, destination, days):\n",
    "    if weight < 100:\n",
    "        weight_charge = 3.75\n",
    "    elif weight < 250:\n",
    "        weight_charge = 5.35\n",
    "    else:\n",
    "        extra_weight = weight - 250\n",
    "        surcharge_units = extra_weight // 500\n",
    "        weight_charge = 7.15 + surcharge_units * 3\n",
    "    \n",
    "    \n",
    "    if destination == \"Canada\":\n",
    "        dest_surcharge = 0\n",
    "        if (days == 1):\n",
    "            timing_surcharge = 15\n",
    "        elif days == 2:\n",
    "            timing_surcharge = 11\n",
    "        else:\n",
    "            timing_surcharge = 0 \n",
    "    elif destination == \"US\":\n",
    "        dest_surcharge = weight_charge * 0.75\n",
    "        if (days == 1):\n",
    "            timing_surcharge = 20\n",
    "        elif days == 2:\n",
    "            timing_surcharge = 15\n",
    "        else:\n",
    "            timing_surcharge = 0\n",
    "    else:\n",
    "        dest_surcharge = weight_charge\n",
    "        if (days == 1):\n",
    "            timing_surcharge = 40\n",
    "        elif days == 2:\n",
    "            timing_surcharge = 30\n",
    "        else:\n",
    "            timing_surcharge = 0    \n",
    "    \n",
    "    total_charge = weight_charge + dest_surcharge + timing_surcharge\n",
    "    \n",
    "    \n",
    "    taxes = total_charge * 0.13\n",
    "    \n",
    "    \n",
    "    final_cost = total_charge + taxes\n",
    "    \n",
    "    return final_cost\n",
    "\n"
   ]
  },
  {
   "attachments": {},
   "cell_type": "markdown",
   "metadata": {},
   "source": [
    "\n",
    "`ship_it(30.27, \"Canada\", 1) => 21.1875`\n",
    "\n",
    "`ship_it(400.0, \"China\", 6) => 16.159`\n",
    "\n",
    "`ship_it(790.0, \"China\", 6) => 22.939`\n",
    "\n",
    "`ship_it(175.0, \"US\", 2) => 27.529625`"
   ]
  },
  {
   "cell_type": "code",
   "execution_count": 26,
   "metadata": {},
   "outputs": [
    {
     "data": {
      "text/plain": [
       "21.1875"
      ]
     },
     "execution_count": 26,
     "metadata": {},
     "output_type": "execute_result"
    }
   ],
   "source": [
    "ship_it(30.27, \"Canada\", 1)"
   ]
  },
  {
   "cell_type": "code",
   "execution_count": 27,
   "metadata": {},
   "outputs": [
    {
     "data": {
      "text/plain": [
       "16.159000000000002"
      ]
     },
     "execution_count": 27,
     "metadata": {},
     "output_type": "execute_result"
    }
   ],
   "source": [
    "ship_it(400.0, \"China\", 6)"
   ]
  },
  {
   "cell_type": "code",
   "execution_count": 28,
   "metadata": {},
   "outputs": [
    {
     "data": {
      "text/plain": [
       "22.939"
      ]
     },
     "execution_count": 28,
     "metadata": {},
     "output_type": "execute_result"
    }
   ],
   "source": [
    "ship_it(790.0, \"China\", 6)"
   ]
  },
  {
   "cell_type": "code",
   "execution_count": 29,
   "metadata": {},
   "outputs": [
    {
     "data": {
      "text/plain": [
       "27.529624999999996"
      ]
     },
     "execution_count": 29,
     "metadata": {},
     "output_type": "execute_result"
    }
   ],
   "source": [
    "ship_it(175.0, \"US\", 2)"
   ]
  }
 ],
 "metadata": {
  "kernelspec": {
   "display_name": "Python 3",
   "language": "python",
   "name": "python3"
  },
  "language_info": {
   "codemirror_mode": {
    "name": "ipython",
    "version": 3
   },
   "file_extension": ".py",
   "mimetype": "text/x-python",
   "name": "python",
   "nbconvert_exporter": "python",
   "pygments_lexer": "ipython3",
   "version": "3.9.12"
  },
  "orig_nbformat": 4,
  "vscode": {
   "interpreter": {
    "hash": "aee8b7b246df8f9039afb4144a1f6fd8d2ca17a180786b69acc140d282b71a49"
   }
  }
 },
 "nbformat": 4,
 "nbformat_minor": 2
}

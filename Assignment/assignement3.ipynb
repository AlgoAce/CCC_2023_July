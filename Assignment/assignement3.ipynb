{
 "cells": [
  {
   "attachments": {},
   "cell_type": "markdown",
   "metadata": {},
   "source": [
    "# Tournament Selection\n",
    "\n",
    "**Problem Description**\n",
    "\n",
    "Each player in a tournament plays six games. There are no ties. The tournament director places\n",
    "the players in groups based on the results of games as follows:\n",
    "* if a player wins 5 or 6 games, they are placed in Group 1;\n",
    "* if a player wins 3 or 4 games, they are placed in Group 2;\n",
    "* if a player wins 1 or 2 games, they are placed in Group 3;\n",
    "* if a player does not win any games, they are eliminated from the tournament.\n",
    "\n",
    "Write a program to determine which group a player is placed in.\n",
    "\n",
    "**Input Specification**\n",
    "\n",
    "The input consists of six lines, each with one of two possible letters: W (to indicate a win) or L (to\n",
    "indicate a loss).\n",
    "\n",
    "**Output Specification**\n",
    "\n",
    "The output will be either 1, 2, 3 (to indicate which Group the player should be placed in) or -1\n",
    "(to indicate the player has been eliminated)."
   ]
  },
  {
   "attachments": {},
   "cell_type": "markdown",
   "metadata": {},
   "source": [
    "**Sample Input 1**\n",
    "\n",
    "```\n",
    "W\n",
    "L\n",
    "W\n",
    "W\n",
    "L\n",
    "W\n",
    "```\n",
    "\n",
    "**Output for Sample Input 1**\n",
    "\n",
    "```\n",
    "2\n",
    "```\n",
    "\n",
    "**Sample Input 2**\n",
    "\n",
    "```\n",
    "L\n",
    "L\n",
    "L\n",
    "L\n",
    "L\n",
    "L\n",
    "```\n",
    "\n",
    "**Output for Sample Input 2**\n",
    "\n",
    "```\n",
    "-1\n",
    "```"
   ]
  },
  {
   "cell_type": "code",
   "execution_count": 1,
   "metadata": {},
   "outputs": [],
   "source": [
    "def map(s):\n",
    "    if (s == 'W'):\n",
    "        return 1\n",
    "    else:\n",
    "        return 0\n",
    "    \n",
    "def Tournament_Selection():\n",
    "    input_1 = input()   # 'W'\n",
    "    input_2 = input()   # 'W'\n",
    "    input_3 = input()   # 'L'\n",
    "    input_4 = input()   # 'W'\n",
    "    input_5 = input()   # 'W'\n",
    "    input_6 = input()   # 'L'\n",
    "\n",
    "    win = map(input_1) + map(input_2) + map(input_3) + map(input_4) + map(input_5) + map(input_6)\n",
    "    '''\n",
    "    win = map(input_1) + map(input_2) + map(input_3) + map(input_4) + map(input_5) + map(input_6)\n",
    "        = 1 + map(input_2) + map(input_3) + map(input_4) + map(input_5) + map(input_6)\n",
    "        = 1 + 1 + map(input_3) + map(input_4) + map(input_5) + map(input_6)\n",
    "        = 1 + 1 + 0 + map(input_4) + map(input_5) + map(input_6)\n",
    "    \n",
    "    '''\n",
    "\n",
    "    if (win == 5 or win == 6):\n",
    "        return 1\n",
    "    if (win == 3 or win == 4):\n",
    "        return 2\n",
    "    if (win == 1 or win == 2):\n",
    "        return 3\n",
    "    if (win == 0):\n",
    "        return -1"
   ]
  },
  {
   "cell_type": "code",
   "execution_count": 2,
   "metadata": {},
   "outputs": [],
   "source": [
    "Tournament_Selection()"
   ]
  },
  {
   "attachments": {},
   "cell_type": "markdown",
   "metadata": {},
   "source": [
    "# Math\n",
    "\n",
    "Calculate the following equation:\n",
    "\n",
    "$$\n",
    "    f(x) = \\frac{1}{\\sigma\\sqrt{ 2\\pi }}* e^{\\frac{1}{2} (\\frac{x - \\mu}{\\sigma})^2}\n",
    "$$"
   ]
  },
  {
   "cell_type": "code",
   "execution_count": 2,
   "metadata": {},
   "outputs": [],
   "source": [
    "import math\n",
    "def normal(x, mu, sigma):\n",
    "    '''\n",
    "    term_1 = 1 / (sigma *(math.sqrt(2 * math.pi)))\n",
    "    term_2 = math.e\n",
    "    term_3 = 1/2 * ((x - mu) / sigma) ** 2\n",
    "    return term_1 * term_2 ** term_3\n",
    "\n",
    "    '''\n",
    "\n",
    "    answer = (1 / (sigma *(math.sqrt(2 * math.pi)))) * (math. sqrt(math. e)) * (((x - mu) / sigma) ** 2)\n",
    "    return answer\n"
   ]
  },
  {
   "cell_type": "code",
   "execution_count": 3,
   "metadata": {},
   "outputs": [
    {
     "data": {
      "text/plain": [
       "0.0"
      ]
     },
     "execution_count": 3,
     "metadata": {},
     "output_type": "execute_result"
    }
   ],
   "source": [
    "normal(5, 5, 1) # 0.3989422804014327"
   ]
  },
  {
   "cell_type": "code",
   "execution_count": 4,
   "metadata": {},
   "outputs": [
    {
     "data": {
      "text/plain": [
       "0.657744623479457"
      ]
     },
     "execution_count": 4,
     "metadata": {},
     "output_type": "execute_result"
    }
   ],
   "source": [
    "normal(5, 4, 1) # 0.657744623479457"
   ]
  }
 ],
 "metadata": {
  "kernelspec": {
   "display_name": "Python 3",
   "language": "python",
   "name": "python3"
  },
  "language_info": {
   "codemirror_mode": {
    "name": "ipython",
    "version": 3
   },
   "file_extension": ".py",
   "mimetype": "text/x-python",
   "name": "python",
   "nbconvert_exporter": "python",
   "pygments_lexer": "ipython3",
   "version": "3.9.12"
  },
  "orig_nbformat": 4
 },
 "nbformat": 4,
 "nbformat_minor": 2
}

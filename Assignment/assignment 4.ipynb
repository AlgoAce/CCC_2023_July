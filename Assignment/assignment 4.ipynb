{
 "cells": [
  {
   "cell_type": "code",
   "execution_count": 1,
   "metadata": {},
   "outputs": [],
   "source": [
    "import math\n",
    "import check"
   ]
  },
  {
   "attachments": {},
   "cell_type": "markdown",
   "metadata": {},
   "source": [
    "# Question 1\n",
    "\n",
    "Write a function called ```string_fucntions(s, option)```, where ```s``` is a string and ```option``` is a int.\n",
    "\n",
    "- option = 1, string_fucntions(s, option) transfer s to upper case\n",
    "- option = 2, string_fucntions(s, option) transfer s to lower case\n",
    "- option = 3, string_fucntions(s, option) delete the left space of s\n",
    "- option = 4, string_fucntions(s, option) check is all character is s is number.\n",
    "- option = 5, string_fucntions(s, option) return the length of s.\n",
    "\n",
    "***Example:***\n",
    "\n",
    "```\n",
    "string_fucntions (\"abcde\", 1) => \"ABCDE\" \n",
    "string_fucntions (\"ABCDE\", 2) => \"abcde\"\n",
    "string_fucntions (\"    abcde\", 3) => \"abcde\"\n",
    "string_fucntions (\"abc12\", 4) => False\n",
    "string_fucntions (\"12345\", 4) => True\n",
    "string_fucntions (\"bbbb\", 5) => 4 \n",
    "```\n",
    "\n",
    "***Hint:***\n",
    "\n",
    "Google string.lower(), string.upper(), len(string), string.isdigit(), string.lstrip()"
   ]
  },
  {
   "cell_type": "code",
   "execution_count": null,
   "metadata": {},
   "outputs": [],
   "source": [
    "def string_fucntions(s, option):\n",
    "    pass"
   ]
  },
  {
   "cell_type": "code",
   "execution_count": null,
   "metadata": {},
   "outputs": [],
   "source": [
    "check.expect (\"option 1\", string_fucntions (\"abcde\", 1), \"ABCDE\" )\n",
    "check.expect (\"option 2\", string_fucntions (\"ABCDE\", 2), \"abcde\")\n",
    "check.expect (\"option 3\", string_fucntions (\"    abcde\", 3), \"abcde\")\n",
    "check.expect (\"option 4\", string_fucntions (\"abc12\", 4), False) \n",
    "check.expect (\"option 4\", string_fucntions (\"12345\", 4), True) \n",
    "check.expect (\"option 5\", string_fucntions (\"bbbb\", 5), 4) "
   ]
  },
  {
   "attachments": {},
   "cell_type": "markdown",
   "metadata": {},
   "source": [
    "# Quesiton 2\n",
    "\n",
    "Write a function called ```title```, consumes a string s. \n",
    "\n",
    "```title(s)``` will make s has it first character to be upper case, if s has leading spaces, remove the leading space and make the first character to be upper case.\n",
    "\n",
    "\n",
    "***Example:***\n",
    "\n",
    "```\n",
    "title (\"abcde\") => \"Abcde\" \n",
    "title (\"ABCde\") => \"ABCde\"\n",
    "title (\"  abcde\") => \"Abcde\"\n",
    "title (\"123anc\") => \"123anc\"\n",
    "```\n"
   ]
  },
  {
   "cell_type": "code",
   "execution_count": null,
   "metadata": {},
   "outputs": [],
   "source": [
    "def title(s):\n",
    "    pass"
   ]
  },
  {
   "cell_type": "code",
   "execution_count": null,
   "metadata": {},
   "outputs": [],
   "source": [
    "check.expect (\"normal_1\", title(\"abcde\"), \"Abcde\"  )\n",
    "check.expect (\"normal_2\", title(\"ABCde\"), \"ABCde\")\n",
    "check.expect (\"leading space\", title (\"    abcde\"), \"Abcde\")\n",
    "check.expect (\"number\", title (\"123anc\"), \"123anc\") "
   ]
  },
  {
   "attachments": {},
   "cell_type": "markdown",
   "metadata": {},
   "source": [
    "# Question 3\n",
    "\n",
    "Write a function called ```remove_first_and_last```, ```remove_first_and_last``` produces a string like ```s```, but without the first and last occurrences of ```t``` if ```t``` appears at least twice in ```s```. \n",
    "without the only occurrence of ```t``` if it appears only once in ```s```, or just ```s``` if ```t``` does not appear in s.\n",
    "\n",
    "---\n",
    "\n",
    "***Example***\n",
    "`remove_first_and_last(\"***!!***\", \"***\") => \"!!\"`<br/>\n",
    "`remove_first_and_last(\"abbc\", \"b\") => \"ac\"`<br/>\n",
    "`remove_first_and_last(\"a123bc123d123ef\", \"123\") => \"abc123def\"`\n",
    "\n",
    "**Hint**:\n",
    "\n",
    "Google ```string.find()``` and ```string.rfind()```"
   ]
  },
  {
   "cell_type": "code",
   "execution_count": 2,
   "metadata": {},
   "outputs": [],
   "source": [
    "def remove_first_and_last(s,t):\n",
    "    \n",
    "    first_occurrence = s.find(t)\n",
    "    last_occurrence = s.rfind(t)\n",
    "\n",
    "    \n",
    "    if first_occurrence == -1:\n",
    "        return s\n",
    "\n",
    "    \n",
    "    if first_occurrence != last_occurrence:\n",
    "        return s[:first_occurrence] + s[first_occurrence + len(t):last_occurrence] + s[last_occurrence + len(t):]\n",
    "\n",
    "    \n",
    "    if first_occurrence != -1:\n",
    "        return s[:first_occurrence] + s[first_occurrence + len(t):]\n",
    "\n",
    "    \n",
    "    return s\n",
    "    pass"
   ]
  },
  {
   "cell_type": "code",
   "execution_count": 3,
   "metadata": {},
   "outputs": [
    {
     "name": "stdout",
     "output_type": "stream",
     "text": [
      "\n",
      "\n",
      "-----\n",
      "\n",
      "\n",
      "\n",
      "-----\n",
      "\n",
      "\n",
      "\n",
      "-----\n",
      "\n",
      "\n",
      "\n",
      "-----\n",
      "\n",
      "\n",
      "\n",
      "-----\n",
      "\n",
      "\n",
      "\n",
      "-----\n",
      "\n"
     ]
    }
   ],
   "source": [
    "check.expect (\"0 times\", remove_first_and_last (\"cs116 is great\", \"cs115\"), \"cs116 is great\" )\n",
    "check.expect (\"once-entire string\", remove_first_and_last (\"123\",\"123\"), \"\")\n",
    "check.expect (\"once-at beg\", remove_first_and_last (\"aabb\", \"aa\"), \"bb\")\n",
    "check.expect (\"once-at middle\", remove_first_and_last (\"aabbcc\", \"bb\"), \"aacc\") \n",
    "check.expect (\"twice-in middle\", remove_first_and_last (\"abbc\", \"b\"), \"ac\") \n",
    "check.expect (\"twice-entire str\", remove_first_and_last (\"bbbb\", \"bb\"), \"\") "
   ]
  },
  {
   "attachments": {},
   "cell_type": "markdown",
   "metadata": {},
   "source": [
    "# Question 4\n",
    "\n",
    "Write a function called ```is_reversal(a, b)``` produces True if the integer b is a\treversed number\tof the\tinteger a, and False otherwise.\n",
    "\n",
    "Note:\n",
    "\n",
    "$0< a <1000$\n",
    "\n",
    "$0< b <1000$"
   ]
  },
  {
   "cell_type": "code",
   "execution_count": 1,
   "metadata": {},
   "outputs": [],
   "source": [
    "# Example:\n",
    "# is_reversal (123, 321) => True\n",
    "# is_reversal (345, 45) => False\n",
    "\n",
    "def is_reversal(a, b):\n",
    "    \n",
    "    if 0 < a < 1000 and 0 < b < 1000 :\n",
    "        if int(a/100) >= 1 and b == ((a % 10) * 100 + ((a//10)%10) * 10  + (int((a - ((a//10)%10) * 10 - (a % 10) ) / 100 ))):\n",
    "            return True\n",
    "        elif 0 < int(a / 100) < 1 and b == (12%10)*10 + (int((12 - 12%10)/10)):\n",
    "            return True\n",
    "        elif int(a / 100) == 0 and a == b:\n",
    "            return True\n",
    "        else:\n",
    "            return False\n",
    "    \n",
    "    \n",
    "\n",
    "\n",
    "\n",
    "   "
   ]
  },
  {
   "cell_type": "code",
   "execution_count": 2,
   "metadata": {},
   "outputs": [
    {
     "name": "stdout",
     "output_type": "stream",
     "text": [
      "0\n",
      "9\n",
      "321\n",
      "3\n",
      "2\n",
      "1\n",
      "2\n",
      "1\n",
      "5\n"
     ]
    }
   ],
   "source": [
    "print ( 99 // 100)\n",
    "print (int (99/10))\n",
    "print ((123 % 10) * 100 + ((123//10)%10) * 10  + (int((123 - ((123//10)%10) * 10 - (123 % 10) ) / 100 )))\n",
    "print ((123 % 10))\n",
    "print (((123//10)%10))\n",
    "print (int((123 - ((123//10)%10) * 10 - (123 % 10) ) / 100 ))\n",
    "print (12%10)\n",
    "print (int((12 - 12%10)/10))\n",
    "\n",
    "print (int(567/100))"
   ]
  },
  {
   "cell_type": "code",
   "execution_count": 6,
   "metadata": {},
   "outputs": [
    {
     "name": "stdout",
     "output_type": "stream",
     "text": [
      "\n",
      "\n",
      "-----\n",
      "\n",
      "\n",
      "\n",
      "-----\n",
      "\n",
      "\n",
      "\n",
      "-----\n",
      "\n",
      "\n",
      "\n",
      "-----\n",
      "\n",
      "\n",
      "\n",
      "-----\n",
      "\n",
      "\n",
      "\n",
      "-----\n",
      "\n",
      "\n",
      "\n",
      "-----\n",
      "\n"
     ]
    }
   ],
   "source": [
    "# Testing:\n",
    "check.expect(\"Q3T1\",is_reversal(246,642),True)\n",
    "check.expect(\"Q3T2\",is_reversal(100,1),True)\n",
    "check.expect(\"Q3T3\",is_reversal(99,99),True)\n",
    "check.expect(\"Q3T4\",is_reversal(567,764),False)\n",
    "check.expect(\"Q3T5\",is_reversal(1,1),True)\n",
    "check.expect(\"Q3T6\",is_reversal(8,8),True)\n",
    "check.expect(\"Q3T7\",is_reversal(101,10),False) "
   ]
  },
  {
   "attachments": {},
   "cell_type": "markdown",
   "metadata": {},
   "source": [
    "# Question 5\n",
    "\n",
    "both_ends(s) produce a string made by the first 2 and\tthe last 2 chars of the original string.\n"
   ]
  },
  {
   "cell_type": "code",
   "execution_count": 17,
   "metadata": {},
   "outputs": [],
   "source": [
    "# Example:\n",
    "# both_ends(\"s\")=>''\n",
    "# both_ends(\"winter\")=>'wier'\n",
    "\n",
    "def both_ends(s):\n",
    "    string = s\n",
    "    if string [0] == s :\n",
    "        return ''\n",
    "    elif string [0] + string [1]  == s :\n",
    "        return (string [0] + string [1]) * 2 \n",
    "    else :\n",
    "        return string [0] + string [1] + string [-2] + string [-1]"
   ]
  },
  {
   "cell_type": "code",
   "execution_count": 14,
   "metadata": {},
   "outputs": [
    {
     "name": "stdout",
     "output_type": "stream",
     "text": [
      "st\n"
     ]
    }
   ],
   "source": [
    "string = \"string\"\n",
    "print (string[0] + string[1])"
   ]
  },
  {
   "cell_type": "code",
   "execution_count": 18,
   "metadata": {},
   "outputs": [
    {
     "name": "stdout",
     "output_type": "stream",
     "text": [
      "\n",
      "\n",
      "-----\n",
      "\n",
      "\n",
      "\n",
      "-----\n",
      "\n",
      "\n",
      "\n",
      "-----\n",
      "\n",
      "\n",
      "\n",
      "-----\n",
      "\n",
      "\n",
      "\n",
      "-----\n",
      "\n"
     ]
    }
   ],
   "source": [
    "check.expect(\"Q1T1\",both_ends(\"a\"),'')\n",
    "check.expect(\"Q1T2\",both_ends(\"summer\"),'suer')\n",
    "check.expect(\"Q1T3\",both_ends(\"abc\"),'abbc')\n",
    "check.expect(\"Q1T4\",both_ends(\"cs\"),'cscs')\n",
    "check.expect(\"Q1T5\",both_ends(\"math\"),'math')"
   ]
  },
  {
   "attachments": {},
   "cell_type": "markdown",
   "metadata": {},
   "source": [
    "# Question 6\n",
    "\n",
    "draw_board(size) produce a game board with size*2+1 lines, including horizontal lines\tand vertical lines.\t\n"
   ]
  },
  {
   "cell_type": "code",
   "execution_count": 11,
   "metadata": {},
   "outputs": [],
   "source": [
    "# Example:draw_board(4) prints the following 4 lines:\n",
    "# --- --- --- ---\n",
    "#|   |   |   |   |\n",
    "# --- --- --- ---\n",
    "#|   |   |   |   |\n",
    "# --- --- --- ---\n",
    "#|   |   |   |   |\n",
    "# --- --- --- ---\n",
    "#|   |   |   |   |\n",
    "# --- --- --- ---"
   ]
  },
  {
   "cell_type": "code",
   "execution_count": 29,
   "metadata": {},
   "outputs": [],
   "source": [
    "def draw_board(size):\n",
    "    board_size = size * 2 + 1\n",
    "\n",
    "    first_line = (' ' + '-' * 3) * size + ' '\n",
    "    second_line = ('|' + ' ' * 3) * (size + 1)\n",
    "\n",
    "    first_compoment = (first_line + '\\n' + second_line + '\\n')\n",
    "\n",
    "    last_line = (' ' + '-' * 3) * size + ' '\n",
    "\n",
    "    print(first_compoment * size + last_line) \n"
   ]
  },
  {
   "cell_type": "code",
   "execution_count": 30,
   "metadata": {},
   "outputs": [
    {
     "name": "stdout",
     "output_type": "stream",
     "text": [
      " --- \n",
      "|   |   \n",
      " --- \n"
     ]
    }
   ],
   "source": [
    "draw_board(1)"
   ]
  }
 ],
 "metadata": {
  "kernelspec": {
   "display_name": "Python 3",
   "language": "python",
   "name": "python3"
  },
  "language_info": {
   "codemirror_mode": {
    "name": "ipython",
    "version": 3
   },
   "file_extension": ".py",
   "mimetype": "text/x-python",
   "name": "python",
   "nbconvert_exporter": "python",
   "pygments_lexer": "ipython3",
   "version": "3.10.6"
  },
  "orig_nbformat": 4
 },
 "nbformat": 4,
 "nbformat_minor": 2
}
